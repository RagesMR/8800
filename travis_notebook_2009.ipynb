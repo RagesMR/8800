{
 "cells": [
  {
   "cell_type": "code",
   "execution_count": 1,
   "metadata": {
    "collapsed": true
   },
   "outputs": [],
   "source": [
    "%matplotlib inline\n",
    "import matplotlib.pyplot as plt"
   ]
  },
  {
   "cell_type": "code",
   "execution_count": 2,
   "metadata": {
    "collapsed": true
   },
   "outputs": [],
   "source": [
    "import pandas as pd\n",
    "import numpy as np\n",
    "from scipy import stats\n",
    "import xlrd"
   ]
  },
  {
   "cell_type": "markdown",
   "metadata": {},
   "source": [
    "## Loading Data\n",
    "\n",
    "#### To use this method, two files have to be saved in this direction: \n",
    "\n",
    "##### 1) Question Raw Data, named YYYYData.xls.  The \"Report\" sheet at the end MUST BE DELETED\n",
    "##### 2) All Students, named YYYYStudents.xlsx."
   ]
  },
  {
   "cell_type": "code",
   "execution_count": 3,
   "metadata": {
    "collapsed": true
   },
   "outputs": [],
   "source": [
    "def load_data(year):\n",
    "    directory = './'+str(year)+'Data.xls'\n",
    "    \n",
    "    \n",
    "    overallDF = pd.DataFrame()\n",
    "    book = xlrd.open_workbook(directory) \n",
    "    num_sheets = len(book.sheets())\n",
    "\n",
    "    sheet_names = book.sheet_names()\n",
    "    sheet_names\n",
    "\n",
    "    #GET ALL STUDENTS TO USE AS THE INDEX\n",
    "    book_students = xlrd.open_workbook('./'+ str(year) + 'Students.xlsx')\n",
    "    all_students = pd.read_excel('./'+ str(year) + 'Students.xlsx', 'Sheet1', header=None).iloc[:,0].tolist()\n",
    "    \n",
    "    for i in range(num_sheets):\n",
    "        this_sheet = sheet_names[i]\n",
    "        df = pd.read_excel(directory, this_sheet)\n",
    "        df.set_index(df.columns[0], inplace=True)\n",
    "        df = df.reindex(all_students)\n",
    "        df = df.reset_index()\n",
    "        overallDF = pd.concat([overallDF, df], axis=1)\n",
    "    \n",
    "\n",
    "    return overallDF"
   ]
  },
  {
   "cell_type": "code",
   "execution_count": 4,
   "metadata": {
    "collapsed": true
   },
   "outputs": [],
   "source": [
    "overalldf_2008 = load_data(2008)\n",
    "overalldf_2009 = load_data(2009)\n",
    "overalldf_2010 = load_data(2010)"
   ]
  },
  {
   "cell_type": "code",
   "execution_count": 5,
   "metadata": {
    "collapsed": false,
    "scrolled": true
   },
   "outputs": [],
   "source": [
    "overalldf_2011 = load_data(2011)"
   ]
  },
  {
   "cell_type": "markdown",
   "metadata": {},
   "source": [
    "## Get Mean and Variance"
   ]
  },
  {
   "cell_type": "markdown",
   "metadata": {},
   "source": [
    "#### Identify pattern of columns for each subdivision.  Then find row-wise mean and variance for those selected columns and add to end of DF"
   ]
  },
  {
   "cell_type": "code",
   "execution_count": 6,
   "metadata": {
    "collapsed": false
   },
   "outputs": [],
   "source": [
    "categories = ['ppi_initiation', 'ppi_info_gather', 'ppi_closing', 'hx_physical', 'hx_social', 'pe_handwash', 'pe_phys_check', 'pe_modesty', 'ps_personal', 'ps_rec']\n",
    "\n",
    "def generate_cols(categories):\n",
    "    col_names = []\n",
    "    for cat in categories:\n",
    "        col_names.append(\"mean_\" + cat)\n",
    "        col_names.append(\"var_\" + cat)\n",
    "    return col_names\n",
    "\n",
    "column_names = generate_cols(categories)\n",
    "\n",
    "combinedDF = pd.DataFrame(columns=column_names)"
   ]
  },
  {
   "cell_type": "code",
   "execution_count": 7,
   "metadata": {
    "collapsed": false,
    "scrolled": true
   },
   "outputs": [
    {
     "data": {
      "text/html": [
       "<div>\n",
       "<table border=\"1\" class=\"dataframe\">\n",
       "  <thead>\n",
       "    <tr style=\"text-align: right;\">\n",
       "      <th></th>\n",
       "      <th>mean_ppi_initiation</th>\n",
       "      <th>var_ppi_initiation</th>\n",
       "      <th>mean_ppi_info_gather</th>\n",
       "      <th>var_ppi_info_gather</th>\n",
       "      <th>mean_ppi_closing</th>\n",
       "      <th>var_ppi_closing</th>\n",
       "      <th>mean_hx_physical</th>\n",
       "      <th>var_hx_physical</th>\n",
       "      <th>mean_hx_social</th>\n",
       "      <th>var_hx_social</th>\n",
       "      <th>mean_pe_handwash</th>\n",
       "      <th>var_pe_handwash</th>\n",
       "      <th>mean_pe_phys_check</th>\n",
       "      <th>var_pe_phys_check</th>\n",
       "      <th>mean_pe_modesty</th>\n",
       "      <th>var_pe_modesty</th>\n",
       "      <th>mean_ps_personal</th>\n",
       "      <th>var_ps_personal</th>\n",
       "      <th>mean_ps_rec</th>\n",
       "      <th>var_ps_rec</th>\n",
       "    </tr>\n",
       "  </thead>\n",
       "  <tbody>\n",
       "  </tbody>\n",
       "</table>\n",
       "</div>"
      ],
      "text/plain": [
       "Empty DataFrame\n",
       "Columns: [mean_ppi_initiation, var_ppi_initiation, mean_ppi_info_gather, var_ppi_info_gather, mean_ppi_closing, var_ppi_closing, mean_hx_physical, var_hx_physical, mean_hx_social, var_hx_social, mean_pe_handwash, var_pe_handwash, mean_pe_phys_check, var_pe_phys_check, mean_pe_modesty, var_pe_modesty, mean_ps_personal, var_ps_personal, mean_ps_rec, var_ps_rec]\n",
       "Index: []"
      ]
     },
     "execution_count": 7,
     "metadata": {},
     "output_type": "execute_result"
    }
   ],
   "source": [
    "combinedDF"
   ]
  },
  {
   "cell_type": "markdown",
   "metadata": {},
   "source": [
    "### 2009"
   ]
  },
  {
   "cell_type": "code",
   "execution_count": 8,
   "metadata": {
    "collapsed": true
   },
   "outputs": [],
   "source": [
    "dict_2009 = {\n",
    "    'ppi_initiation': [\"Q1_PPI\", \"Q2_PPI\", \"Q3_PPI\", \"Q4_PPI\"], \n",
    "    'ppi_info_gather': [\"Q5_PPI\", \"Q6_PPI\", \"Q7_PPI\", \"Q8_PPI\", \"Q9_PPI\", \"Q10_PPI\", \"Q11_PPI\", \"Q12_PPI\"], \n",
    "    'ppi_closing': [\"Q13_PPI\", \"Q14_PPI\", \"Q15_PPI\"], \n",
    "    'hx_physical': [\"Q1_Hx\", \"Q2_Hx\", \"Q3_Hx\", \"Q4_Hx\", \"Q5_Hx\", \"Q6_Hx\", \"Q7_Hx\", \"Q8_Hx\"], \n",
    "    'hx_social': [\"Q9_Hx\"], \n",
    "    'pe_handwash': [\"Q1_PE\"], \n",
    "    'pe_phys_check': [\"Q2_PE\", \"Q4_PE\", \"Q5_PE\", \"Q6_PE\", \"Q7_PE\", \"Q8_PE\", \"Q9_PE\"], \n",
    "    'pe_modesty': [\"Q3_PE\"], \n",
    "    'ps_personal': ['Q1_PS'], \n",
    "    'ps_rec': ['Q2_PS']\n",
    "}\n",
    "\n",
    "\n"
   ]
  },
  {
   "cell_type": "code",
   "execution_count": 9,
   "metadata": {
    "collapsed": false,
    "scrolled": true
   },
   "outputs": [
    {
     "ename": "NameError",
     "evalue": "name 'combined' is not defined",
     "output_type": "error",
     "traceback": [
      "\u001b[0;31m---------------------------------------------------------------------------\u001b[0m",
      "\u001b[0;31mNameError\u001b[0m                                 Traceback (most recent call last)",
      "\u001b[0;32m<ipython-input-9-b376e17829ca>\u001b[0m in \u001b[0;36m<module>\u001b[0;34m()\u001b[0m\n\u001b[1;32m     12\u001b[0m \u001b[0;34m\u001b[0m\u001b[0m\n\u001b[1;32m     13\u001b[0m \u001b[0;34m\u001b[0m\u001b[0m\n\u001b[0;32m---> 14\u001b[0;31m \u001b[0mcombined\u001b[0m\u001b[0;34m.\u001b[0m\u001b[0mhead\u001b[0m\u001b[0;34m(\u001b[0m\u001b[0;34m)\u001b[0m\u001b[0;34m\u001b[0m\u001b[0m\n\u001b[0m",
      "\u001b[0;31mNameError\u001b[0m: name 'combined' is not defined"
     ]
    }
   ],
   "source": [
    "def get_year_df(yearDF, year_dict):\n",
    "    new_year_df = pd.DataFrame()\n",
    "    new_year_df[\"StudentName\"] = yearDF.iloc[:,0]\n",
    "    for key, value in year_dict.iteritems():\n",
    "        selected_cols = list(yearDF.loc[:, yearDF.columns.str.contains(('|'.join(value)))].columns)\n",
    "        new_year_df[\"mean_\" + key] = yearDF[selected_cols].mean(axis=1)\n",
    "        new_year_df[\"var_\" + key] = yearDF[selected_cols].var(axis=1)\n",
    "    \n",
    "    return new_year_df\n",
    "    \n",
    "combinedDF = pd.concat([combinedDF, get_year_df(overalldf_2009, dict_2009)])\n"
   ]
  },
  {
   "cell_type": "code",
   "execution_count": 10,
   "metadata": {
    "collapsed": false
   },
   "outputs": [
    {
     "data": {
      "text/html": [
       "<div>\n",
       "<table border=\"1\" class=\"dataframe\">\n",
       "  <thead>\n",
       "    <tr style=\"text-align: right;\">\n",
       "      <th></th>\n",
       "      <th>StudentName</th>\n",
       "      <th>mean_hx_physical</th>\n",
       "      <th>mean_hx_social</th>\n",
       "      <th>mean_pe_handwash</th>\n",
       "      <th>mean_pe_modesty</th>\n",
       "      <th>mean_pe_phys_check</th>\n",
       "      <th>mean_ppi_closing</th>\n",
       "      <th>mean_ppi_info_gather</th>\n",
       "      <th>mean_ppi_initiation</th>\n",
       "      <th>mean_ps_personal</th>\n",
       "      <th>...</th>\n",
       "      <th>var_hx_physical</th>\n",
       "      <th>var_hx_social</th>\n",
       "      <th>var_pe_handwash</th>\n",
       "      <th>var_pe_modesty</th>\n",
       "      <th>var_pe_phys_check</th>\n",
       "      <th>var_ppi_closing</th>\n",
       "      <th>var_ppi_info_gather</th>\n",
       "      <th>var_ppi_initiation</th>\n",
       "      <th>var_ps_personal</th>\n",
       "      <th>var_ps_rec</th>\n",
       "    </tr>\n",
       "  </thead>\n",
       "  <tbody>\n",
       "    <tr>\n",
       "      <th>0</th>\n",
       "      <td>Abbey, Ashkan</td>\n",
       "      <td>NaN</td>\n",
       "      <td>NaN</td>\n",
       "      <td>NaN</td>\n",
       "      <td>NaN</td>\n",
       "      <td>NaN</td>\n",
       "      <td>NaN</td>\n",
       "      <td>NaN</td>\n",
       "      <td>NaN</td>\n",
       "      <td>NaN</td>\n",
       "      <td>...</td>\n",
       "      <td>NaN</td>\n",
       "      <td>NaN</td>\n",
       "      <td>NaN</td>\n",
       "      <td>NaN</td>\n",
       "      <td>NaN</td>\n",
       "      <td>NaN</td>\n",
       "      <td>NaN</td>\n",
       "      <td>NaN</td>\n",
       "      <td>NaN</td>\n",
       "      <td>NaN</td>\n",
       "    </tr>\n",
       "    <tr>\n",
       "      <th>1</th>\n",
       "      <td>Angarita, Benjamin</td>\n",
       "      <td>2.871795</td>\n",
       "      <td>3.555556</td>\n",
       "      <td>1.333333</td>\n",
       "      <td>2.666667</td>\n",
       "      <td>1.706842</td>\n",
       "      <td>2.266667</td>\n",
       "      <td>2.807692</td>\n",
       "      <td>2.769231</td>\n",
       "      <td>1.0</td>\n",
       "      <td>...</td>\n",
       "      <td>3.282051</td>\n",
       "      <td>1.777778</td>\n",
       "      <td>4.000000</td>\n",
       "      <td>4.000000</td>\n",
       "      <td>3.901740</td>\n",
       "      <td>4.064368</td>\n",
       "      <td>3.380134</td>\n",
       "      <td>3.475113</td>\n",
       "      <td>1.111111</td>\n",
       "      <td>0.488889</td>\n",
       "    </tr>\n",
       "    <tr>\n",
       "      <th>2</th>\n",
       "      <td>Aniukwu, Jideofor</td>\n",
       "      <td>NaN</td>\n",
       "      <td>NaN</td>\n",
       "      <td>NaN</td>\n",
       "      <td>NaN</td>\n",
       "      <td>NaN</td>\n",
       "      <td>NaN</td>\n",
       "      <td>NaN</td>\n",
       "      <td>NaN</td>\n",
       "      <td>NaN</td>\n",
       "      <td>...</td>\n",
       "      <td>NaN</td>\n",
       "      <td>NaN</td>\n",
       "      <td>NaN</td>\n",
       "      <td>NaN</td>\n",
       "      <td>NaN</td>\n",
       "      <td>NaN</td>\n",
       "      <td>NaN</td>\n",
       "      <td>NaN</td>\n",
       "      <td>NaN</td>\n",
       "      <td>NaN</td>\n",
       "    </tr>\n",
       "    <tr>\n",
       "      <th>3</th>\n",
       "      <td>Austin, Naola</td>\n",
       "      <td>2.974359</td>\n",
       "      <td>1.333333</td>\n",
       "      <td>2.666667</td>\n",
       "      <td>3.555556</td>\n",
       "      <td>2.259649</td>\n",
       "      <td>3.333333</td>\n",
       "      <td>3.692308</td>\n",
       "      <td>3.923077</td>\n",
       "      <td>2.9</td>\n",
       "      <td>...</td>\n",
       "      <td>3.090243</td>\n",
       "      <td>4.000000</td>\n",
       "      <td>4.000000</td>\n",
       "      <td>1.777778</td>\n",
       "      <td>3.951378</td>\n",
       "      <td>2.298851</td>\n",
       "      <td>1.147125</td>\n",
       "      <td>0.307692</td>\n",
       "      <td>0.766667</td>\n",
       "      <td>0.988889</td>\n",
       "    </tr>\n",
       "    <tr>\n",
       "      <th>4</th>\n",
       "      <td>Ayodele, Maranatha</td>\n",
       "      <td>2.820513</td>\n",
       "      <td>3.111111</td>\n",
       "      <td>3.555556</td>\n",
       "      <td>3.111111</td>\n",
       "      <td>2.282281</td>\n",
       "      <td>2.933333</td>\n",
       "      <td>3.692308</td>\n",
       "      <td>3.692308</td>\n",
       "      <td>2.3</td>\n",
       "      <td>...</td>\n",
       "      <td>3.369963</td>\n",
       "      <td>3.111111</td>\n",
       "      <td>1.777778</td>\n",
       "      <td>3.111111</td>\n",
       "      <td>3.856682</td>\n",
       "      <td>3.236782</td>\n",
       "      <td>1.147125</td>\n",
       "      <td>1.158371</td>\n",
       "      <td>1.344444</td>\n",
       "      <td>1.555556</td>\n",
       "    </tr>\n",
       "  </tbody>\n",
       "</table>\n",
       "<p>5 rows × 21 columns</p>\n",
       "</div>"
      ],
      "text/plain": [
       "          StudentName  mean_hx_physical  mean_hx_social  mean_pe_handwash  \\\n",
       "0       Abbey, Ashkan               NaN             NaN               NaN   \n",
       "1  Angarita, Benjamin          2.871795        3.555556          1.333333   \n",
       "2   Aniukwu, Jideofor               NaN             NaN               NaN   \n",
       "3       Austin, Naola          2.974359        1.333333          2.666667   \n",
       "4  Ayodele, Maranatha          2.820513        3.111111          3.555556   \n",
       "\n",
       "   mean_pe_modesty  mean_pe_phys_check  mean_ppi_closing  \\\n",
       "0              NaN                 NaN               NaN   \n",
       "1         2.666667            1.706842          2.266667   \n",
       "2              NaN                 NaN               NaN   \n",
       "3         3.555556            2.259649          3.333333   \n",
       "4         3.111111            2.282281          2.933333   \n",
       "\n",
       "   mean_ppi_info_gather  mean_ppi_initiation  mean_ps_personal     ...      \\\n",
       "0                   NaN                  NaN               NaN     ...       \n",
       "1              2.807692             2.769231               1.0     ...       \n",
       "2                   NaN                  NaN               NaN     ...       \n",
       "3              3.692308             3.923077               2.9     ...       \n",
       "4              3.692308             3.692308               2.3     ...       \n",
       "\n",
       "   var_hx_physical  var_hx_social  var_pe_handwash  var_pe_modesty  \\\n",
       "0              NaN            NaN              NaN             NaN   \n",
       "1         3.282051       1.777778         4.000000        4.000000   \n",
       "2              NaN            NaN              NaN             NaN   \n",
       "3         3.090243       4.000000         4.000000        1.777778   \n",
       "4         3.369963       3.111111         1.777778        3.111111   \n",
       "\n",
       "   var_pe_phys_check  var_ppi_closing  var_ppi_info_gather  \\\n",
       "0                NaN              NaN                  NaN   \n",
       "1           3.901740         4.064368             3.380134   \n",
       "2                NaN              NaN                  NaN   \n",
       "3           3.951378         2.298851             1.147125   \n",
       "4           3.856682         3.236782             1.147125   \n",
       "\n",
       "   var_ppi_initiation  var_ps_personal  var_ps_rec  \n",
       "0                 NaN              NaN         NaN  \n",
       "1            3.475113         1.111111    0.488889  \n",
       "2                 NaN              NaN         NaN  \n",
       "3            0.307692         0.766667    0.988889  \n",
       "4            1.158371         1.344444    1.555556  \n",
       "\n",
       "[5 rows x 21 columns]"
      ]
     },
     "execution_count": 10,
     "metadata": {},
     "output_type": "execute_result"
    }
   ],
   "source": [
    "combinedDF.head()"
   ]
  },
  {
   "cell_type": "markdown",
   "metadata": {},
   "source": [
    "## CLEAN BELOW THIS LINE"
   ]
  },
  {
   "cell_type": "code",
   "execution_count": null,
   "metadata": {
    "collapsed": false
   },
   "outputs": [],
   "source": [
    "def add_mean_and_var_column(question_names, new_col_name):\n",
    "    selected_cols = list(overallDF.loc[:, overallDF.columns.str.contains(('|'.join(question_names)))].columns)\n",
    "    overallDF[\"mean_\" + new_col_name] = overallDF[selected_cols].mean(axis=1)\n",
    "    overallDF[\"var_\" + new_col_name] = overallDF[selected_cols].var(axis=1)\n",
    "\n",
    "add_mean_and_var_column(ppi_initiation_qs, 'ppi_initiation')\n",
    "add_mean_and_var_column(ppi_info_gather, 'ppi_info_gather')\n",
    "add_mean_and_var_column(ppi_closing, 'ppi_closing')"
   ]
  },
  {
   "cell_type": "code",
   "execution_count": null,
   "metadata": {
    "collapsed": false,
    "scrolled": true
   },
   "outputs": [],
   "source": [
    "overallDF.columns.tolist()"
   ]
  },
  {
   "cell_type": "code",
   "execution_count": null,
   "metadata": {
    "collapsed": true
   },
   "outputs": [],
   "source": [
    "hx_physical =[\"Q1_Hx\", \"Q2_Hx\", \"Q3_Hx\", \"Q4_Hx\", \"Q5_Hx\", \"Q6_Hx\", \"Q7_Hx\", \"Q8_Hx\"]\n",
    "hx_social = [\"Q9_Hx\"]\n",
    "\n",
    "add_mean_and_var_column(hx_physical, 'hx_physical')\n",
    "add_mean_and_var_column(hx_social, 'hx_social')"
   ]
  },
  {
   "cell_type": "code",
   "execution_count": null,
   "metadata": {
    "collapsed": true
   },
   "outputs": [],
   "source": [
    "pe_handwash = [\"Q1_PE\"]\n",
    "pe_phys_check = [\"Q2_PE\", \"Q4_PE\", \"Q5_PE\", \"Q6_PE\", \"Q7_PE\", \"Q8_PE\", \"Q9_PE\"]\n",
    "pe_modesty = [\"Q3_PE\"]\n",
    "\n",
    "add_mean_and_var_column(pe_handwash, 'pe_handwash')\n",
    "add_mean_and_var_column(pe_phys_check, 'pe_phys_check')\n",
    "add_mean_and_var_column(pe_modesty, 'pe_modesty')"
   ]
  },
  {
   "cell_type": "code",
   "execution_count": null,
   "metadata": {
    "collapsed": true
   },
   "outputs": [],
   "source": []
  }
 ],
 "metadata": {
  "kernelspec": {
   "display_name": "Python 2",
   "language": "python",
   "name": "python2"
  },
  "language_info": {
   "codemirror_mode": {
    "name": "ipython",
    "version": 2
   },
   "file_extension": ".py",
   "mimetype": "text/x-python",
   "name": "python",
   "nbconvert_exporter": "python",
   "pygments_lexer": "ipython2",
   "version": "2.7.13"
  }
 },
 "nbformat": 4,
 "nbformat_minor": 2
}
